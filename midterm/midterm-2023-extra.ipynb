{
  "cells": [
    {
      "cell_type": "markdown",
      "metadata": {
        "id": "KXHhdNCaDfnR"
      },
      "source": [
        "# Extra Credit\n",
        "\n",
        "For upto an additional 15 extra credit points on the midterm exam, you can write another function that applies additional criteria on top of what the midterm already did.  To earn the addition points, you need write a function called `summarize_results(patients)` to take the output of your  `process_people()` function to apply a new business rule and summarize the results.\n",
        "\n",
        "* Your function should take the dictionary created by `process_people()` as it's one input parameter: `patients`.\n",
        "* If the PRIEST probably is less than 10%, change the `hospital` and `address` to both have a value of `'Home'` indicating patients with a lower probability of an adverse outcome can just go home rather than be admitted to a hospital.\n",
        "* Summarize those results and count how many patients are now being sent to each location.  Your result should have the following format:\n",
        "```\n",
        "{\n",
        "    \"Home\": 123,\n",
        "    \"Hospital A\": 10,\n",
        "    \"Hospital B\": 20,\n",
        "    \"Hospital C\": 30\n",
        "}\n",
        "```\n",
        "\n",
        "As always, your function needs good docstrings; but does not require any doctests in this case."
      ]
    },
    {
      "cell_type": "code",
      "execution_count": 1,
      "metadata": {
        "id": "tyNMgCZSDfnU"
      },
      "outputs": [],
      "source": [
        "def summarize_results(patients):\n",
        "\n",
        "  # Send patients with priest score < 0.1 home\n",
        "  for id, patient in patients.items():\n",
        "    if patient[10] < 0.1:\n",
        "      patient[11] = 'Home'\n",
        "      patient[12] = 'Home'\n",
        "\n",
        "  # Get unique hospital addresses\n",
        "  hospitals = set(patient[11] for patient in patients.values())\n",
        "\n",
        "  # Initialize count dict\n",
        "  counts = {hospital: 0 for hospital in hospitals}\n",
        "\n",
        "  # Increment count for each hospital\n",
        "  for patient in patients.values():\n",
        "    hospital = patient[11]\n",
        "    counts[hospital] += 1\n",
        "\n",
        "  return counts"
      ]
    },
    {
      "cell_type": "code",
      "execution_count": null,
      "metadata": {
        "id": "_c46-yjgDfnU"
      },
      "outputs": [],
      "source": []
    }
  ],
  "metadata": {
    "kernelspec": {
      "display_name": ".venv",
      "language": "python",
      "name": "python3"
    },
    "language_info": {
      "codemirror_mode": {
        "name": "ipython",
        "version": 3
      },
      "file_extension": ".py",
      "mimetype": "text/x-python",
      "name": "python",
      "nbconvert_exporter": "python",
      "pygments_lexer": "ipython3",
      "version": "3.9.16"
    },
    "colab": {
      "provenance": []
    }
  },
  "nbformat": 4,
  "nbformat_minor": 0
}
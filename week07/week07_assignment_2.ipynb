{
  "cells": [
    {
      "cell_type": "markdown",
      "metadata": {
        "id": "GhSmIkwMv1sg"
      },
      "source": [
        "# Week 7 Assignment\n",
        "\n",
        "We've been working with different types of data structures in Python (dictionary, list, etc), how those are represented in JSON documents, and how to write code to access specific data elements. In this week's assignment, you will need to create your own JSON document to store information about yourself and the grades you've received from week 1 to week 4 and the week 6 quiz.  That is, everything you should have received a grade for.  Then you'll need to show me you know how to navigate the JSON in that file.\n",
        "\n",
        "Different from what we've done in the past, you do not have to write any functions or include any docstrings.  Just create some JSON and write some code.\n",
        "\n",
        "---"
      ]
    },
    {
      "cell_type": "markdown",
      "metadata": {
        "id": "wv5W1PtZv1si"
      },
      "source": [
        "## 7.1 Create a JSON string\n",
        "\n",
        "Create a JSON string that contains your name, email, year you were born, all of the grades you've received back so far, and a comment about what you thought was most challenging on each of those assignments.  This can be any structure you choose, but make sure it uses a dictionary and a list, and has at least two levels of hierarchy.  That is, it can't just be one big long list."
      ]
    },
    {
      "cell_type": "markdown",
      "metadata": {
        "id": "u2ywBlYsv1si"
      },
      "source": [
        "First, explain how your data structure is going to look..."
      ]
    },
    {
      "cell_type": "markdown",
      "metadata": {
        "id": "3Zg5pI_uv1si"
      },
      "source": [
        "My data structure includes my academic data in JSON format. Briefly, the structure:\n",
        "A top-level JSON object enclosed in curly braces {}:\n",
        "Student data key-value pairs include \"name,\" \"email,\" and \"yearborn.\"\n",
        "\"Education history list\" word:\n",
        "Returns a two-key nested JSON object:\n",
        "The student's \"Schools attended\" list.\n",
        "\"Graduation year\": School-specific graduation years.\n",
        "Key to \"Grades\"\n",
        "Returns a multi-object JSON array.\n",
        "The keys for each assignment grade object are:\n",
        "\"assignment\": Details.\n",
        "\"grade scored\": Assignment grade.\n",
        "\"my comment\": Assignment-related remarks.\n"
      ]
    },
    {
      "cell_type": "markdown",
      "metadata": {
        "id": "eJH8017Dv1si"
      },
      "source": [
        "Then put the actual JSON you've created inside the multiline string below..."
      ]
    },
    {
      "cell_type": "code",
      "execution_count": 1,
      "metadata": {
        "id": "ApuQmbwrv1si"
      },
      "outputs": [],
      "source": [
        "hds5210 = \"\"\"\n",
        "{\n",
        "  \"name\": \"Bharath Reddy Sudireddy\",\n",
        "  \"email\": \"bharathreddy.sudireddy@slu.edu\",\n",
        "  \"yearborn\": 1997,\n",
        "  \"Education history list\": {\n",
        "    \"Schools attended\": [\"Mahabubnagar grammar school\", \"Sri chaintanya junior college\", \"Malla reddy pharmacy college\"],\n",
        "    \"Graduation year\": [\"2013\", \"2015\", \"2022\"]\n",
        "  },\n",
        "  \"Grades\": [\n",
        "    {\n",
        "      \"assignment\": \"week 1\",\n",
        "      \"grade scored\": \"10/10\",\n",
        "      \"my comment\": \"The assignment was very easy.\"\n",
        "    },\n",
        "    {\n",
        "      \"assignment\": \"week 2\",\n",
        "      \"grade scored\": \"10\",\n",
        "      \"my comment\": \"This assignment was highly challenging, as it was the first time I had written Python code on my own.\"\n",
        "    },\n",
        "    {\n",
        "      \"assignment\": \"week 3\",\n",
        "      \"grade scored\": \"5/10\",\n",
        "      \"my comment\": \"This assignment was very hard as I had to write the very complex code, and I felt this task was asking more of a student who had been learning Python for 4 weeks.\"\n",
        "    },\n",
        "    {\n",
        "      \"assignment\": \"week 4\",\n",
        "      \"grade scored\": \"9/10\",\n",
        "      \"my comment\": \"I found this assignment fascinating as it allowed me to develop the ability to convert lists into dictionaries and merge elements together.\"\n",
        "    },\n",
        "    {\n",
        "      \"assignment\": \"week 6\",\n",
        "      \"grade scored\": \"16/20\",\n",
        "      \"my comment\": \"The quiz coding part was easy, but I was unable to put the document strings correctly.\"\n",
        "    }\n",
        "  ]\n",
        "}\n",
        "\n",
        "\n",
        "\"\"\""
      ]
    },
    {
      "cell_type": "markdown",
      "metadata": {
        "id": "OtAbAkiQv1sj"
      },
      "source": [
        "## 7.2 Do something with your JSON\n",
        "\n",
        "Now use Python code to do something with the Json above.  Turn it into English text, but make sure that you use at least one loop to access some dict or list content of your JSON.  Below, I've provided some basic code to read in the string above as JSON and return a Python object.  Your job is to work with that data structure and print out the important information like your name, email, and how you did on each assignment."
      ]
    },
    {
      "cell_type": "code",
      "execution_count": 2,
      "metadata": {
        "id": "elqlNvCiv1sj",
        "outputId": "59057d1a-40f6-415a-9c44-9d7147287aee",
        "colab": {
          "base_uri": "https://localhost:8080/"
        }
      },
      "outputs": [
        {
          "output_type": "stream",
          "name": "stdout",
          "text": [
            "Name: Bharath Reddy Sudireddy\n",
            "Email: bharathreddy.sudireddy@slu.edu\n",
            "Year Born: 1997\n",
            "\n",
            "Educational History:\n",
            "School: Mahabubnagar grammar school\n",
            "Graduation Year: 2013\n",
            "\n",
            "School: Sri chaintanya junior college\n",
            "Graduation Year: 2015\n",
            "\n",
            "School: Malla reddy pharmacy college\n",
            "Graduation Year: 2022\n",
            "\n",
            "\n",
            "Assignment Grades:\n",
            "Assignment: week 1\n",
            "Grade Scored: 10/10\n",
            "My Comment: The assignment was very easy.\n",
            "\n",
            "Assignment: week 2\n",
            "Grade Scored: 10\n",
            "My Comment: This assignment was highly challenging, as it was the first time I had written Python code on my own.\n",
            "\n",
            "Assignment: week 3\n",
            "Grade Scored: 5/10\n",
            "My Comment: This assignment was very hard as I had to write the very complex code, and I felt this task was asking more of a student who had been learning Python for 4 weeks.\n",
            "\n",
            "Assignment: week 4\n",
            "Grade Scored: 9/10\n",
            "My Comment: I found this assignment fascinating as it allowed me to develop the ability to convert lists into dictionaries and merge elements together.\n",
            "\n",
            "Assignment: week 6\n",
            "Grade Scored: 16/20\n",
            "My Comment: The quiz coding part was easy, but I was unable to put the document strings correctly.\n",
            "\n"
          ]
        }
      ],
      "source": [
        "import json\n",
        "\n",
        "info = json.loads(hds5210)\n",
        "# Extract and print important information\n",
        "print(\"Name:\", info[\"name\"])\n",
        "print(\"Email:\", info[\"email\"])\n",
        "print(\"Year Born:\", info[\"yearborn\"])\n",
        "\n",
        "# Educational history\n",
        "education = info[\"Education history list\"]\n",
        "schools_attended = education[\"Schools attended\"]\n",
        "graduation_years = education[\"Graduation year\"]\n",
        "print(\"\\nEducational History:\")\n",
        "for school, year in zip(schools_attended, graduation_years):\n",
        "    print(\"School:\", school)\n",
        "    print(\"Graduation Year:\", year)\n",
        "    print()\n",
        "\n",
        "# Access assignment information using a loop\n",
        "grades = info[\"Grades\"]\n",
        "print(\"\\nAssignment Grades:\")\n",
        "for assignment in grades:\n",
        "    print(\"Assignment:\", assignment[\"assignment\"])\n",
        "    print(\"Grade Scored:\", assignment[\"grade scored\"])\n",
        "    print(\"My Comment:\", assignment[\"my comment\"])\n",
        "    print()\n"
      ]
    },
    {
      "cell_type": "markdown",
      "metadata": {
        "id": "uPeXsrxov1sj"
      },
      "source": [
        "## 7.3 Reflect\n",
        "\n",
        "Write a paragraph on any reflections you have. Was this hard? Easy?  What parts were most challenging or easiest? What did you like or dislike about the assignment?  Share whatever important thoughts you have abou this assignment."
      ]
    },
    {
      "cell_type": "markdown",
      "metadata": {
        "id": "w6rfwHYXv1sj"
      },
      "source": [
        "* Constructing a JSON data structure to depict a biography and subsequently converting it into English text using Python was not an exceedingly arduous task, but it did necessitate meticulous deliberation and systematic arrangement on my behalf.   Comprehensive instructions were given regarding the specific JSON format and the data that needs to be extracted.   Constructing the JSON data structure using the provided data was the most straightforward aspect.   The most challenging aspect was retrieving and displaying the assignment information in English by utilizing loops.   Dealing with nested dictionaries and lists was a substantial aspect of this challenge, making it highly worthwhile to undertake.   Overall, I found the assignment's focus on utilizing JSON and Python's capacity to manipulate structured data to be commendable.   For those seeking to enhance their skills in data processing and Python, this exercise is highly commendable.\n"
      ]
    },
    {
      "cell_type": "markdown",
      "metadata": {
        "id": "SlBMUhjKv1sk"
      },
      "source": [
        "---\n",
        "\n",
        "# Example\n",
        "\n",
        "Below is an example of something similar, but this uses information my and my friend's kids instead of grades."
      ]
    },
    {
      "cell_type": "code",
      "execution_count": 3,
      "metadata": {
        "id": "k8GxUeu_v1sk",
        "outputId": "a9df9152-f5ec-429f-86d2-fc749265a98b",
        "colab": {
          "base_uri": "https://localhost:8080/"
        }
      },
      "outputs": [
        {
          "output_type": "stream",
          "name": "stdout",
          "text": [
            "Hi, my name is Paul. I've got 3 kids. Their names are Ellie, Ada, Teddy.\n",
            "My friend, Anny has 1 kids. That's fewer than me. Their names are 1\n"
          ]
        }
      ],
      "source": [
        "hds5210 = \"\"\"\n",
        "{\n",
        "    \"me\": {\n",
        "        \"name\": \"Paul\",\n",
        "        \"kids\": [\"Ellie\", \"Ada\", \"Teddy\"]\n",
        "    },\n",
        "    \"friend\": {\n",
        "        \"name\": \"Anny\",\n",
        "        \"kids\": [\"Abby\"]\n",
        "    }\n",
        "}\n",
        "\"\"\"\n",
        "\n",
        "import json\n",
        "\n",
        "info = json.loads(hds5210)\n",
        "\n",
        "me = info[\"me\"][\"name\"]\n",
        "my_kids_count = len(info[\"me\"][\"kids\"])\n",
        "kids_list = \", \".join(info[\"me\"][\"kids\"])\n",
        "friend = info[\"friend\"][\"name\"]\n",
        "friends_kid_count = len(info[\"friend\"][\"kids\"])\n",
        "friend_kids = \", \".join(info[\"friend\"][\"kids\"])\n",
        "compare = \"more\" if friends_kid_count > my_kids_count else \"fewer\"\n",
        "\n",
        "print(f\"Hi, my name is {me}. I've got {my_kids_count} kids. Their names are {kids_list}.\")\n",
        "print(f\"My friend, {friend} has {friends_kid_count} kids. That's {compare} than me. Their names are {friends_kid_count}\")"
      ]
    }
  ],
  "metadata": {
    "kernelspec": {
      "display_name": "Python 3",
      "language": "python",
      "name": "python3"
    },
    "language_info": {
      "codemirror_mode": {
        "name": "ipython",
        "version": 3
      },
      "file_extension": ".py",
      "mimetype": "text/x-python",
      "name": "python",
      "nbconvert_exporter": "python",
      "pygments_lexer": "ipython3",
      "version": "3.9.16"
    },
    "colab": {
      "provenance": []
    }
  },
  "nbformat": 4,
  "nbformat_minor": 0
}